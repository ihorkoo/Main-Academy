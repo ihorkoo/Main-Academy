{
 "cells": [
  {
   "cell_type": "markdown",
   "metadata": {},
   "source": [
    "### Task"
   ]
  },
  {
   "cell_type": "markdown",
   "metadata": {},
   "source": [
    "##### Дайте короткі відповіді на запитання (10 балів)"
   ]
  },
  {
   "cell_type": "markdown",
   "metadata": {},
   "source": [
    "1. Назвіть основні базові типи в Python\n",
    "2. Як можна ціле число перетворити в дійсне?\n",
    "3. Скільки символів в стрічц `\"a\\nb\\x1f\\000d\"`\n",
    "4. Назвіть операції, які змінюють обєкт список.\n",
    "5. Який спосіб (на вашу думку) читання файлів найбільш оптимальний?\n",
    "6. В який момент часу інтерпретатор створює функцію?\n",
    "7. Що повертає функція, коли в ній відсутня команда `return`\n",
    "8. Які області видимості у Python?\n",
    "9. Чим відрізняються генератори списків в квадратних дужках від генераторів в круглих дужках?\n",
    "10. Для чого потрібна конструкція  `raise`"
   ]
  },
  {
   "cell_type": "code",
   "execution_count": null,
   "metadata": {},
   "outputs": [],
   "source": []
  },
  {
   "cell_type": "markdown",
   "metadata": {},
   "source": [
    "Створіть словник `dict_with_answer` у якому ключ - номер завдання (A, B ...), значення це відповідь (чи функція)\n",
    "\n",
    "За правильну реалізацію всіх завдань 21 бал\n"
   ]
  },
  {
   "cell_type": "markdown",
   "metadata": {},
   "source": [
    "`Task A`"
   ]
  },
  {
   "cell_type": "markdown",
   "metadata": {},
   "source": [
    "Напишіть функцію, що генерує пароль заданої довжини\n",
    "\n",
    "(в словник запишіть фцнкцію)"
   ]
  },
  {
   "cell_type": "code",
   "execution_count": null,
   "metadata": {},
   "outputs": [],
   "source": [
    "def password(n):"
   ]
  },
  {
   "cell_type": "markdown",
   "metadata": {},
   "source": [
    "`Task B`"
   ]
  },
  {
   "cell_type": "markdown",
   "metadata": {},
   "source": [
    "Напишіть функцію, що перевіряє чи число просте\n",
    "\n",
    "(в словник запишіть фцнкцію)"
   ]
  },
  {
   "cell_type": "code",
   "execution_count": null,
   "metadata": {},
   "outputs": [],
   "source": [
    "def primality(n):"
   ]
  },
  {
   "cell_type": "markdown",
   "metadata": {},
   "source": [
    "`Task C`"
   ]
  },
  {
   "cell_type": "markdown",
   "metadata": {},
   "source": [
    "Виведіть всі найменування статей на сайті https://www.nytimes.com/\n",
    "\n",
    "(запишіть список із назвами статей)"
   ]
  },
  {
   "cell_type": "code",
   "execution_count": null,
   "metadata": {},
   "outputs": [],
   "source": []
  },
  {
   "cell_type": "markdown",
   "metadata": {},
   "source": [
    "`Task D`"
   ]
  },
  {
   "cell_type": "markdown",
   "metadata": {},
   "source": [
    "Знайдіть відстань (в км) яку проїхав автомобіліст. У вас є інформація про середню швидкість (км/год) у місяці та час(хв) в дорозі.\n",
    "\n",
    "(в словник запишіть загальну відстань)"
   ]
  },
  {
   "cell_type": "code",
   "execution_count": 4,
   "metadata": {},
   "outputs": [],
   "source": [
    "speed  ={'jan':47, 'feb':52, 'march':47, 'April':44, 'May':52, 'June':53,\n",
    "          'july':54, 'Aug':44, 'Sept':54} \n",
    "time  ={'jan':300, 'feb':700 , 'march':900, 'April':1200, 'May':600, 'June':700,\n",
    "          'july':80, 'Aug':500, 'Sept':600} "
   ]
  },
  {
   "cell_type": "markdown",
   "metadata": {},
   "source": [
    "`Task E`"
   ]
  },
  {
   "cell_type": "markdown",
   "metadata": {},
   "source": [
    "Реалізуйте функцію, що виводить випадкову дату в діапазоні двох введених дат\n",
    "\n",
    "(в словник запишіть фцнкцію)"
   ]
  },
  {
   "cell_type": "code",
   "execution_count": null,
   "metadata": {},
   "outputs": [],
   "source": [
    "def random_date(start_date, end_date):"
   ]
  },
  {
   "cell_type": "markdown",
   "metadata": {},
   "source": [
    "`Task F`"
   ]
  },
  {
   "cell_type": "markdown",
   "metadata": {},
   "source": [
    "Знайдіть найдрожчу ціну для колонки `company`\n",
    "\n",
    "(в словник запишіть кортеж з назваю компанії та ціною)"
   ]
  },
  {
   "cell_type": "code",
   "execution_count": null,
   "metadata": {},
   "outputs": [],
   "source": [
    "df = pd.read_csv(\"Automobile_data.csv\")"
   ]
  },
  {
   "cell_type": "markdown",
   "metadata": {},
   "source": [
    "`Task F`"
   ]
  },
  {
   "cell_type": "markdown",
   "metadata": {},
   "source": [
    "Реалізуйте клас \"стек\" (задача на ООП)\n",
    "\n",
    "Операції для стеку:\n",
    "\n",
    "`push` («заштовхнути елемент»): елемент додається в стек та розміщується в його верхівці. Розмір стека збільшується на одиницю. При перевищенні розміру стека граничної величини, відбувається переповнення стека .\n",
    "\n",
    "`pop` («виштовхнути елемент»): отримує елемент з верхівки стека. При цьому він видаляється зі стека і його місце в верхівці стека займає наступний за ним відповідно до правила LIFO, а розмір стека зменшується на одиницю. При намаганні «виштовхнути» елемент з вже пустого стека, відбувається ситуація «незаповненість» стека (англ. stack underflow).\n",
    "Кожна з цих операцій зі стеком виконується за фіксований час O(1) і не залежить від розміру стеку.\n",
    "\n",
    "Додаткові операції:\n",
    "\n",
    "`isEmpty`: перевірка наявності елементів в стека; результат: істина (true), коли стек порожній.\n",
    "\n",
    "`isFull`: перевірка заповненості стека. Результат: істина, коли додавання нового елементу неможливе.\n",
    "\n",
    "`clear`: звільнити стек (видалити усі елементи).\n",
    "\n",
    "`top`: отримати верхній елемент (без виштовхування).\n",
    "\n",
    "`size`: отримати розмір (кількість елементів) стека.\n",
    "\n",
    "`swap`: поміняти два верхніх елементи місцями.\n",
    "\n",
    "(в словник запишіть екземпляр класу)"
   ]
  },
  {
   "cell_type": "code",
   "execution_count": null,
   "metadata": {},
   "outputs": [],
   "source": []
  }
 ],
 "metadata": {
  "kernelspec": {
   "display_name": "Python 3",
   "language": "python",
   "name": "python3"
  },
  "language_info": {
   "codemirror_mode": {
    "name": "ipython",
    "version": 3
   },
   "file_extension": ".py",
   "mimetype": "text/x-python",
   "name": "python",
   "nbconvert_exporter": "python",
   "pygments_lexer": "ipython3",
   "version": "3.7.3"
  }
 },
 "nbformat": 4,
 "nbformat_minor": 2
}
