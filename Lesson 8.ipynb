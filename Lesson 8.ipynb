{
 "cells": [
  {
   "cell_type": "markdown",
   "metadata": {},
   "source": [
    "### Lesson\n"
   ]
  },
  {
   "cell_type": "markdown",
   "metadata": {},
   "source": [
    "#### Функції"
   ]
  },
  {
   "cell_type": "code",
   "execution_count": null,
   "metadata": {},
   "outputs": [],
   "source": [
    "def new_funck(*arg, **kvarg):\n",
    "    print(type(arg), arg)\n",
    "    print(type(kvarg), kvarg)"
   ]
  },
  {
   "cell_type": "code",
   "execution_count": null,
   "metadata": {},
   "outputs": [],
   "source": []
  },
  {
   "cell_type": "code",
   "execution_count": null,
   "metadata": {},
   "outputs": [],
   "source": [
    "# створити функцію, що приймає декілька arg i kvarg"
   ]
  },
  {
   "cell_type": "code",
   "execution_count": null,
   "metadata": {},
   "outputs": [],
   "source": []
  },
  {
   "cell_type": "code",
   "execution_count": null,
   "metadata": {},
   "outputs": [],
   "source": [
    "# чи можна так?\n",
    "one, two, *three = [1,2,3,4,5,6]"
   ]
  },
  {
   "cell_type": "code",
   "execution_count": null,
   "metadata": {},
   "outputs": [],
   "source": []
  },
  {
   "cell_type": "code",
   "execution_count": null,
   "metadata": {},
   "outputs": [],
   "source": [
    "def new_sum(a,b,c):\n",
    "    print(a+b+c)\n",
    "\n",
    "    \n",
    "mass = [1,2,3]\n",
    "new_sum(*mass)"
   ]
  },
  {
   "cell_type": "markdown",
   "metadata": {},
   "source": [
    "На вход подаётся строка, содержащая некоторое количество (не больше сотни) записанных через пробел целых чисел.\n",
    "Распечатайте каждое целое число, приведённое к типу float, на отдельной строке в том же порядке, в котором они были переданы"
   ]
  },
  {
   "cell_type": "code",
   "execution_count": null,
   "metadata": {},
   "outputs": [],
   "source": []
  },
  {
   "cell_type": "markdown",
   "metadata": {},
   "source": [
    "#### Lambda"
   ]
  },
  {
   "cell_type": "code",
   "execution_count": null,
   "metadata": {},
   "outputs": [],
   "source": [
    "def sum_f(a, b):\n",
    "    return a + b\n",
    "\n",
    "# переписати через lambda\n",
    "    "
   ]
  },
  {
   "cell_type": "code",
   "execution_count": null,
   "metadata": {},
   "outputs": [],
   "source": [
    "#Дано масив чисел. Вивести індекс максимального елемента \n",
    "\n",
    "x = [1,4,66,23,78,1,2,3,4,7]\n",
    "\n",
    "\n",
    "\n",
    "\n"
   ]
  },
  {
   "cell_type": "code",
   "execution_count": null,
   "metadata": {},
   "outputs": [],
   "source": [
    "#реалізуємо в одну стрічку: (використати key)\n"
   ]
  },
  {
   "cell_type": "markdown",
   "metadata": {},
   "source": [
    "#### Функції вищого порядку"
   ]
  },
  {
   "cell_type": "code",
   "execution_count": null,
   "metadata": {},
   "outputs": [],
   "source": [
    "# реалізуємо функцію, що обчислює похідну в точці\n",
    "\n",
    "def D(f):\n",
    "    \n",
    "    \n",
    "    \n",
    "def f():\n",
    "    \n",
    "\n",
    "    \n",
    "test = D(f)\n",
    "print(test(2))"
   ]
  },
  {
   "cell_type": "markdown",
   "metadata": {},
   "source": [
    "#### Замикання"
   ]
  },
  {
   "cell_type": "code",
   "execution_count": null,
   "metadata": {},
   "outputs": [],
   "source": [
    "def helower(hello_text):\n",
    "    text  = hello_text + ', '\n",
    "    def named(name):\n",
    "        return text + name\n",
    "    return named\n",
    "\n",
    "test = helower('Hi')\n",
    "#перевіримо, чи змінна text є в глобальній області видимості\n"
   ]
  },
  {
   "cell_type": "markdown",
   "metadata": {},
   "source": [
    "#### Декоратори"
   ]
  },
  {
   "cell_type": "code",
   "execution_count": null,
   "metadata": {},
   "outputs": [],
   "source": [
    "# Структура декоратора\n",
    "\n",
    "def decorator(funck):\n",
    "    ...\n",
    "    def wrapper():\n",
    "        ...\n",
    "        return ...\n",
    "    return wrapper\n",
    "\n",
    "\n"
   ]
  },
  {
   "cell_type": "code",
   "execution_count": null,
   "metadata": {},
   "outputs": [],
   "source": [
    "# Структура декоратора\n",
    "\n",
    "def decorator(funck):\n",
    "    ...\n",
    "    def wrapper(*args, **kvargs):\n",
    "        ...\n",
    "        funck(*args, **kvargs)\n",
    "        return ...\n",
    "    return wrapper\n"
   ]
  },
  {
   "cell_type": "code",
   "execution_count": null,
   "metadata": {},
   "outputs": [],
   "source": [
    "def timed(funck):\n",
    "    def wraper(*args, **kvargs):\n",
    "        ...\n",
    "        return ...\n",
    "    return wraper\n",
    "\n",
    "def funck():\n",
    "    ...\n",
    "    \n",
    "funck = timed(funck) \n",
    "\n",
    "#або можна записати ось так\n",
    "\n",
    "@timed\n",
    "def funck2():\n",
    "    ..."
   ]
  },
  {
   "cell_type": "code",
   "execution_count": null,
   "metadata": {},
   "outputs": [],
   "source": [
    "import json\n",
    "# json.dumps перетворює словник в формат json\n",
    "\n"
   ]
  },
  {
   "cell_type": "code",
   "execution_count": null,
   "metadata": {},
   "outputs": [],
   "source": [
    "#### Мемонізація\n",
    "\n",
    "def memoized(func):\n",
    "    memory = {}\n",
    "    def wrapper(*args, **kwargs):\n",
    "        key = (args, tuple(sorted(kwargs.items())))\n",
    "        if key not in memory:\n",
    "            memory[key] = func(*args, **kwargs)\n",
    "        return memory[key]\n",
    "    return wrapper"
   ]
  }
 ],
 "metadata": {
  "kernelspec": {
   "display_name": "Python 3",
   "language": "python",
   "name": "python3"
  },
  "language_info": {
   "codemirror_mode": {
    "name": "ipython",
    "version": 3
   },
   "file_extension": ".py",
   "mimetype": "text/x-python",
   "name": "python",
   "nbconvert_exporter": "python",
   "pygments_lexer": "ipython3",
   "version": "3.7.3"
  }
 },
 "nbformat": 4,
 "nbformat_minor": 2
}
