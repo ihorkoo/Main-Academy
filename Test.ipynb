{
 "cells": [
  {
   "cell_type": "markdown",
   "metadata": {},
   "source": [
    "# Практичні завдання"
   ]
  },
  {
   "cell_type": "markdown",
   "metadata": {},
   "source": [
    "## Завдання 1\n",
    "\n",
    "Створити список з 10 елементів типу `int` від 1 до 10.\n",
    "\n",
    "Знайти:\n",
    "- суму всіх чисел\n",
    "- добуток всіх чисел\n",
    "- добуток тільки парних чисел\n",
    "- сформувати новий список, кожний елемент якого це квадрат числа кожного елементу з вихідного списку\n",
    "\n",
    "Результати роботи записувати в змінну `result` типу `dict`, де ключ - це номер завдання, а значення - результат"
   ]
  },
  {
   "cell_type": "code",
   "execution_count": null,
   "metadata": {},
   "outputs": [],
   "source": [
    "# task 1\n"
   ]
  },
  {
   "cell_type": "code",
   "execution_count": null,
   "metadata": {},
   "outputs": [],
   "source": [
    "# task 2\n"
   ]
  },
  {
   "cell_type": "code",
   "execution_count": null,
   "metadata": {},
   "outputs": [],
   "source": [
    "# task 3\n"
   ]
  },
  {
   "cell_type": "code",
   "execution_count": null,
   "metadata": {},
   "outputs": [],
   "source": [
    "# task 4\n"
   ]
  },
  {
   "cell_type": "markdown",
   "metadata": {},
   "source": [
    "## Завдання 2\n",
    "Створити список з 20 елементів типу `int` від 1 до 20.\n",
    "\n",
    "Знайти:\n",
    "- розбити список на два списки: парні та непарні числа; результата записати до словника з двома ключами під парні і непарні числа;\n",
    "- кожне парне число піднести до степені, де степінь - це кожне непарне число; результат записати до словника, де ключ це рядок \"a ** b\", а значення - це результат піднесення до степені;\n",
    "- розділити список на два, однакових за довжиною; по кожному списку створити новий, в якому всі двозначні числа розділені на цифри, наприклад, 13 - це 1 і 3;\n",
    "- на основі отриманих списків з попереднього кроку, створити два set, над якими провести операції union, intersection, difference, symmetric_difference, а результати записати до словника, де ключ - це тип операції, а значення - отриманий результат."
   ]
  },
  {
   "cell_type": "code",
   "execution_count": null,
   "metadata": {},
   "outputs": [],
   "source": [
    "# task 1\n"
   ]
  },
  {
   "cell_type": "code",
   "execution_count": null,
   "metadata": {},
   "outputs": [],
   "source": [
    "# task 2\n"
   ]
  },
  {
   "cell_type": "code",
   "execution_count": null,
   "metadata": {},
   "outputs": [],
   "source": [
    "# task 3\n"
   ]
  },
  {
   "cell_type": "code",
   "execution_count": null,
   "metadata": {},
   "outputs": [],
   "source": [
    "# task 4\n",
    "\n"
   ]
  },
  {
   "cell_type": "markdown",
   "metadata": {},
   "source": [
    "## Завдання 3"
   ]
  },
  {
   "cell_type": "markdown",
   "metadata": {},
   "source": [
    "**1. Напишіть програму, яка буде визначати, чи є номер телефону \"крутим\".**\n",
    "\n",
    "\"Крутий\" номер - це випадки, коли:\n",
    "    \n",
    "- у номері підряд йдуть 4 і більше однакових цифри;\n",
    "- у номері підряд йдуть 4 і більше цифри у порядку спадання чи зростання;\n",
    "- сума перших 5 цифр номеру дорівнює сумі 5 останніх.\n",
    "\n",
    "Приклади \"крутих\" номерів:\n",
    "\n",
    "1. 0981177770 (випадок 1)\n",
    "2. 0951234567 (випадок 2)\n",
    "3. 0670171123 (випадок 3)\n",
    "\n",
    "Програма бере на вхід строку з номером із 10 знаків. На вихід друкує або \"Крутий\", або \"Звичайний\""
   ]
  },
  {
   "cell_type": "code",
   "execution_count": null,
   "metadata": {},
   "outputs": [],
   "source": []
  },
  {
   "cell_type": "markdown",
   "metadata": {},
   "source": [
    "## Завдання 4"
   ]
  },
  {
   "cell_type": "markdown",
   "metadata": {},
   "source": [
    "**2. Напишіть програму, яка буде видавати з масиву локацій координати найближчої точки до центру.**\n",
    "\n",
    "Перший ввід - координати широт.\n",
    "Другий ввід - координати довгот.\n",
    "\n",
    "Кожне нове значення розділяйте пробілом.\n",
    "\n",
    "Вивід - tuple з координатами довготи і широти, які найближчі до центру локацій.\n",
    "\n",
    "Центр локацій - це середнє арифметичне введених координат довгот і широт.\n",
    "\n",
    "Для простоти відстань міряємо в евклідовій метриці.\n",
    "\n",
    "Всі розрахунки потрібно зробити без підключення додаткових модулів.\n",
    "\n",
    "Приклад\n",
    "\n",
    "Вхід:\n",
    "\n",
    "23 34 45\n",
    "\n",
    "88 99 77\n",
    "\n",
    "Вивід:\n",
    "\n",
    "(23, 88)"
   ]
  },
  {
   "cell_type": "code",
   "execution_count": null,
   "metadata": {},
   "outputs": [],
   "source": []
  },
  {
   "cell_type": "markdown",
   "metadata": {},
   "source": [
    "## Завдання 5"
   ]
  },
  {
   "cell_type": "markdown",
   "metadata": {},
   "source": [
    "- знайти кількість букв в тексті в розрізі: всього, верхній регістр, нижній регістр; результат записати до dict з ключами total, upper, lower.\n",
    "- знайти кількість по кожній букві в тексті; результат записати в list, де кожний елемент - це tuple(letter, count);\n",
    "- сформувати list на основі list з п.2, в якому елементи відсортовані по кількості букв (від найменшої до найбільшої кількості);\n",
    "- знайти загальну кількість слів в тексті, результат записати як int;\n",
    "- знайти кількість чисел в тексті, результат записати як int;\n",
    "- створити dict, де ключ - це довжина слова, а значення - це кількість слів з такою довжиною;\n",
    "- знайти відсоток речень, в яких зустрічається слово Python; результат записати як float (на 100 не множимо).\n",
    "- знайти кількість спеціальних символів в тексті; результат записати до dict, де ключ - це спеціальний символ, а значення - кількість;\n",
    "- створити list, в якому речення відсортовані по кількості букв в верхньому регістрі;\n",
    "- знайти букву, яка зустрічається найчастіше і найрідше; результат записати як tuple(max, min);\n",
    "- знайти всі числа та записати їх до list, відсортувавши від найбільного до найменшого;\n",
    "- знайти мінімальне і максимальне число; результат записати як tuple(min, max);\n",
    "- знайти абзац, в якому Python зустрічається найчастіше; результат записати як str.\n",
    "- створити dict, де ключ - це слово, а значення - кількість разів, з якою слово зустрічається в тексті;\n",
    "- знайти слово, яке зустрічається найчастіше і найрідше; результат записати як tuple(tuple(word, count), tuple(word, count))."
   ]
  },
  {
   "cell_type": "markdown",
   "metadata": {},
   "source": [
    "Для кожного пункту постановки реалізувати окрему функцію з наступною сигнатурою:\n",
    "\n",
    "    def task_N(text, result):\n",
    "        # body\n",
    "        return local_result\n",
    "де, text - це вхідний текст, а result - це результат з попередніх завдань.\n",
    "\n",
    "Дозволяється використовувати результати попередніх функції, але не змінювати значення result).\n",
    "\n",
    "Створити dict, де ключ - це номер завдання типу int, а значення - це функція.\n",
    "\n",
    "    handlers = {\n",
    "        N: task_N\n",
    "    }\n",
    "Створити функцію def analyze_text(text), яка:\n",
    "\n",
    "- на вхід приймає text - вихідний текст;\n",
    "- містить в собі змінну result типу dict, де:\n",
    "- ключ - це номер завдання типу int;\n",
    "- значення - це результат завдання.\n",
    "- проходиться по handlers, викликає потрібну функцію, і записує результат до result;\n",
    "- в кінці повертає змінну result.\n",
    "\n",
    "Для даного завдання погоджуємо, що:\n",
    "\n",
    "- буква - букви латинці, без цифр, яка представлена одним символом;\n",
    "- цифра - це цифра, яка представлена одним символом;\n",
    "- число - це набір цифр, які йдуть разом;\n",
    "- спеціальний символ - це все те, що не буква, і не цифра, наприклад, крапка, кома, лапки, дужки і т.д.;\n",
    "- слово - від 1 до N символів (букви, цифри), які йдуть разом (спеціальні символи не вважаються словами);\n",
    "- речення - все, що до крапки."
   ]
  },
  {
   "cell_type": "code",
   "execution_count": null,
   "metadata": {},
   "outputs": [],
   "source": [
    "initial_text = \"\"\"Python is an interpreted high-level programming language for general-purpose programming. Created by Guido van Rossum and first released in 1991, Python has a design philosophy that emphasizes code readability, notably using significant whitespace. It provides constructs that enable clear programming on both small and large scales.[27] In July 2018, Van Rossum stepped down as the leader in the language community after 30 years.[28][29]\n",
    "\n",
    "Python features a dynamic type system and automatic memory management. It supports multiple programming paradigms, including object-oriented, imperative, functional and procedural, and has a large and comprehensive standard library.[30]\n",
    "\n",
    "Python interpreters are available for many operating systems. CPython, the reference implementation of Python, is open source software[31] and has a community-based development model, as do nearly all of Python's other implementations. Python and CPython are managed by the non-profit Python Software Foundation.\n",
    "\n",
    "Python was conceived in the late 1980s[32] by Guido van Rossum at Centrum Wiskunde & Informatica (CWI) in the Netherlands as a successor to the ABC language (itself inspired by SETL)[33], capable of exception handling and interfacing with the Amoeba operating system.[7] Its implementation began in December 1989.[34] Van Rossum's long influence on Python is reflected in the title given to him by the Python community: Benevolent Dictator For Life (BDFL) – a post from which he gave himself permanent vacation on July 12, 2018.[35]\"\"\""
   ]
  },
  {
   "cell_type": "code",
   "execution_count": null,
   "metadata": {},
   "outputs": [],
   "source": []
  },
  {
   "cell_type": "markdown",
   "metadata": {},
   "source": [
    "## Завдання 6"
   ]
  },
  {
   "cell_type": "markdown",
   "metadata": {},
   "source": [
    "Это простое упражнение на использование функции как аргумента.\n",
    "\n",
    "Если вы не использовали раньше сортировку по заданному ключу при помощи встроенной функции sorted, рекомендую прочитать вот этот python-howto (упражнение про это, да и вообще возможность чрезвычайно полезная).\n",
    "\n",
    "На вход подаётся некоторое количество (не больше сотни) разделённых пробелом целых чисел (каждое не меньше 0 и не больше 19).\n",
    "\n",
    "Выведите их через пробел в порядке лексикографического возрастания названий этих чисел в английском языке.\n",
    "\n",
    "Т.е., скажем числа 1, 2, 3 должны быть выведены в порядке 1, 3, 2, поскольку слово two в словаре встречается позже слова three, а слово three -- позже слова one (иначе говоря, поскольку выражение 'one' < 'three' < 'two' является истинным)\n",
    "\n",
    "Наприклад\n",
    "\n",
    "Вхід: 0 1 1 2 3 5 8 13\n",
    "\n",
    "Вихід: 8 5 1 1 13 3 2 0"
   ]
  },
  {
   "cell_type": "code",
   "execution_count": 2,
   "metadata": {},
   "outputs": [],
   "source": [
    "number_names = {\n",
    "        0: 'zero', 1: 'one', 2: 'two', 3: 'three', 4: 'four', 5: 'five', 6: 'six', 7: 'seven', 8: 'eight', 9: 'nine',\n",
    "        10: 'ten', 11: 'eleven', 12: 'twelve', \n",
    "        13: 'thirteen', 14: 'fourteen', 15: 'fifteen', 16: 'sixteen', 17: 'seventeen',  18: 'eighteen', 19: 'nineteen'}"
   ]
  },
  {
   "cell_type": "markdown",
   "metadata": {},
   "source": [
    "## Завдання 7"
   ]
  },
  {
   "cell_type": "markdown",
   "metadata": {},
   "source": [
    "Это упражнение на написание декоратора.\n",
    "\n",
    "Напишите декоратор flip, который делает так, что задекорированная функция принимает все свои неименованные аргументы в порядке, обратном тому, в котором их передали (для аргументов с именем не вполне правильно учитывать порядок, в котором они были переданы)"
   ]
  },
  {
   "cell_type": "code",
   "execution_count": 5,
   "metadata": {},
   "outputs": [],
   "source": [
    "#@flip\n",
    "def div(x, y, show=False):\n",
    "    res = x / y\n",
    "    if show:\n",
    "        print(res)\n",
    "    return res\n",
    "\n",
    "    \n",
    "#div(2, 4, show=True) #return 2\n"
   ]
  }
 ],
 "metadata": {
  "kernelspec": {
   "display_name": "Python 3",
   "language": "python",
   "name": "python3"
  },
  "language_info": {
   "codemirror_mode": {
    "name": "ipython",
    "version": 3
   },
   "file_extension": ".py",
   "mimetype": "text/x-python",
   "name": "python",
   "nbconvert_exporter": "python",
   "pygments_lexer": "ipython3",
   "version": "3.7.3"
  },
  "toc": {
   "base_numbering": 1,
   "nav_menu": {},
   "number_sections": true,
   "sideBar": true,
   "skip_h1_title": false,
   "title_cell": "Table of Contents",
   "title_sidebar": "Contents",
   "toc_cell": false,
   "toc_position": {
    "height": "calc(100% - 180px)",
    "left": "10px",
    "top": "150px",
    "width": "192px"
   },
   "toc_section_display": true,
   "toc_window_display": true
  }
 },
 "nbformat": 4,
 "nbformat_minor": 4
}
