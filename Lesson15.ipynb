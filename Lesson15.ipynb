{
 "cells": [
  {
   "cell_type": "markdown",
   "metadata": {},
   "source": [
    "# Lesson15"
   ]
  },
  {
   "cell_type": "markdown",
   "metadata": {},
   "source": [
    "### Магічні методи"
   ]
  },
  {
   "cell_type": "markdown",
   "metadata": {},
   "source": [
    "https://uk.wikibooks.org/wiki/%D0%9F%D0%BE%D1%80%D0%B8%D0%BD%D1%8C%D1%82%D0%B5_%D1%83_Python_3/%D0%86%D0%BC%D0%B5%D0%BD%D0%B0_%D0%BC%D0%B0%D0%B3%D1%96%D1%87%D0%BD%D0%B8%D1%85_%D0%BC%D0%B5%D1%82%D0%BE%D0%B4%D1%96%D0%B2"
   ]
  },
  {
   "cell_type": "markdown",
   "metadata": {},
   "source": [
    "### __str__"
   ]
  },
  {
   "cell_type": "code",
   "execution_count": null,
   "metadata": {},
   "outputs": [],
   "source": [
    "class User:\n",
    "    def __init__(self, name, email):\n",
    "        self.name = name\n",
    "        self.email = email\n",
    "    \n",
    "    def __str__(self):\n",
    "        return  \"Це друкується при виводі даного обєкта: \" + str(self.name) + str(self.email)\n",
    "\n",
    "\n",
    "ihor = User('Ihor', 'ihorko1996')\n",
    "\n",
    "print(ihor)"
   ]
  },
  {
   "cell_type": "markdown",
   "metadata": {},
   "source": [
    "### __hash__ , __eq__"
   ]
  },
  {
   "cell_type": "code",
   "execution_count": null,
   "metadata": {},
   "outputs": [],
   "source": [
    "class User:\n",
    "    def __init__(self, name, email):\n",
    "        self.name = name\n",
    "        self.email = email\n",
    "    \n",
    "    def __hash__(self):\n",
    "        return hash(self.email)\n",
    "\n",
    "    def __eq__(self, obj):\n",
    "        return self.email == obj.email\n",
    "\n",
    "    \n",
    "ihor = User('Ihor', 'ihorko1996')\n",
    "olya = User('Olya', 'ihorko1996')\n",
    "\n",
    "\n",
    "print(ihor == olya)"
   ]
  },
  {
   "cell_type": "code",
   "execution_count": null,
   "metadata": {},
   "outputs": [],
   "source": [
    "print(hash(ihor))\n",
    "print(hash(olya))"
   ]
  },
  {
   "cell_type": "markdown",
   "metadata": {},
   "source": [
    "### __getattr__, __getattribute__, __setattr__"
   ]
  },
  {
   "cell_type": "code",
   "execution_count": null,
   "metadata": {},
   "outputs": [],
   "source": [
    "class Researcher:\n",
    "    def __getattr__(self, name):\n",
    "        \"\"\"Позволяет определить поведение экземпляра пользовательского типа при попытке \n",
    "        получения значения атрибута.\"\"\"\n",
    "        \n",
    "        return 'Нічого не знайдено'\n",
    "    \n",
    "    def __getattribute__(self, name):\n",
    "        \"\"\"Вызывается при попытке доступа к атрибуту объекта\"\"\"\n",
    "        \n",
    "        print('Looking for {}'.format(name))\n",
    "        return object.__getattribute__(self, name)\n",
    "    \n",
    "\n",
    "obj = Researcher()\n",
    "obj.attr = 1\n",
    "print(obj.attr)\n",
    "print(obj.method)\n",
    "print(obj.DFG2H3J00KLL)"
   ]
  },
  {
   "cell_type": "code",
   "execution_count": null,
   "metadata": {},
   "outputs": [],
   "source": [
    "class Ignorant:\n",
    "    def __setattr__(self, name, value):\n",
    "        print('Not gonna set {}!'.format(name))\n",
    "        \n",
    "\n",
    "obj  = Ignorant()\n",
    "obj.math = 1\n",
    "obj.math"
   ]
  },
  {
   "cell_type": "markdown",
   "metadata": {},
   "source": [
    "### __add__"
   ]
  },
  {
   "cell_type": "code",
   "execution_count": null,
   "metadata": {},
   "outputs": [],
   "source": []
  },
  {
   "cell_type": "markdown",
   "metadata": {},
   "source": [
    "### Наслідування"
   ]
  },
  {
   "cell_type": "markdown",
   "metadata": {},
   "source": [
    "Клас - домашні тварини"
   ]
  },
  {
   "cell_type": "code",
   "execution_count": null,
   "metadata": {},
   "outputs": [],
   "source": [
    "class Pet:\n",
    "    def __init__(self, name=None):\n",
    "        self.name = name"
   ]
  },
  {
   "cell_type": "markdown",
   "metadata": {},
   "source": [
    "Клас - собаки"
   ]
  },
  {
   "cell_type": "code",
   "execution_count": null,
   "metadata": {},
   "outputs": [],
   "source": [
    "class Dog(Pet):\n",
    "    def __init__(self, name, breed=None):\n",
    "        super().__init__(name)\n",
    "        self.breed = breed\n",
    "    \n",
    "    def say(self):\n",
    "        return \"{0}: waw\".format(self.name)"
   ]
  },
  {
   "cell_type": "markdown",
   "metadata": {},
   "source": [
    "Клас - відправка json"
   ]
  },
  {
   "cell_type": "code",
   "execution_count": null,
   "metadata": {},
   "outputs": [],
   "source": [
    "import json \n",
    "\n",
    "class ExportJSON:\n",
    "    def to_json(self):\n",
    "        return json.dumps({\n",
    "            \"name\": self.name,\n",
    "            \"breed\": self.breed\n",
    "        })"
   ]
  },
  {
   "cell_type": "code",
   "execution_count": null,
   "metadata": {},
   "outputs": [],
   "source": [
    "Множинне наслідування"
   ]
  },
  {
   "cell_type": "code",
   "execution_count": null,
   "metadata": {},
   "outputs": [],
   "source": [
    "class ExDog(Dog, ExportJSON):\n",
    "    pass"
   ]
  },
  {
   "cell_type": "code",
   "execution_count": null,
   "metadata": {},
   "outputs": [],
   "source": [
    "ExDog.__mro__"
   ]
  },
  {
   "cell_type": "markdown",
   "metadata": {},
   "source": [
    "Розібратися з наступним кодом (на домашнє):"
   ]
  },
  {
   "cell_type": "code",
   "execution_count": null,
   "metadata": {},
   "outputs": [],
   "source": [
    "class SchoolMember:\n",
    "    \n",
    "    def __init__(self, name, age):\n",
    "        self.name = name\n",
    "        self.age = age\n",
    "        print(\"Створено людину\")\n",
    "    \n",
    "    def tell(self):\n",
    "        print('Імя:\"{0}\" Вік:\"{1}\"'.format(self.name, self.age), end=\" \")\n",
    "        \n",
    "class Teacher(SchoolMember):\n",
    "    \n",
    "    def __init__(self, name, age, salary):\n",
    "        SchoolMember.__init__(self, name, age)\n",
    "        self.salary = salary\n",
    "        print(\"Людина - уень\")\n",
    "        \n",
    "class Student(SchoolMember):\n",
    "    \n",
    "    def __init__(self, name, age, marks):\n",
    "        SchoolMember.__init__(self, name, age)\n",
    "        self.marks = marks\n",
    "        print('(Створений Student: {0})'.format(self.name))\n",
    "    def tell(self):\n",
    "        SchoolMember.tell(self)\n",
    "        print('Оцінки: \"{0:d}\"'.format(self.marks))"
   ]
  },
  {
   "cell_type": "code",
   "execution_count": null,
   "metadata": {},
   "outputs": [],
   "source": []
  }
 ],
 "metadata": {
  "kernelspec": {
   "display_name": "Python 3",
   "language": "python",
   "name": "python3"
  },
  "language_info": {
   "codemirror_mode": {
    "name": "ipython",
    "version": 3
   },
   "file_extension": ".py",
   "mimetype": "text/x-python",
   "name": "python",
   "nbconvert_exporter": "python",
   "pygments_lexer": "ipython3",
   "version": "3.7.3"
  }
 },
 "nbformat": 4,
 "nbformat_minor": 2
}
