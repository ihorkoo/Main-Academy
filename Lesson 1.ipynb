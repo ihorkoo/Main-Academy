{
 "cells": [
  {
   "cell_type": "markdown",
   "metadata": {},
   "source": [
    "# Заняття № 1"
   ]
  },
  {
   "cell_type": "markdown",
   "metadata": {},
   "source": [
    "## 1. Інтерпретатори та компілятор\n",
    "    Відео для ознайомлення: https://www.youtube.com/watch?v=R50311jYlWQ"
   ]
  },
  {
   "cell_type": "markdown",
   "metadata": {},
   "source": [
    "## 2. Редактори та IDLE для Python\n",
    "       Anaconda - https://www.anaconda.com/distribution/\n",
    "       PyCharm - https://www.jetbrains.com/pycharm/\n",
    "   \n",
    "       Notepad++ - https://notepad-plus-plus.org/download/v7.7.1.html \n",
    "   "
   ]
  },
  {
   "cell_type": "markdown",
   "metadata": {},
   "source": [
    "## 3. Приклади завдань"
   ]
  },
  {
   "cell_type": "markdown",
   "metadata": {},
   "source": [
    "####    Cума двох цілих чисел чисел "
   ]
  },
  {
   "cell_type": "markdown",
   "metadata": {},
   "source": [
    "Ціле число - це число виду 1, 2, 3, -1, -2, -3, 0 ... \n",
    "В Python ціле число позначається `int`"
   ]
  },
  {
   "cell_type": "code",
   "execution_count": 1,
   "metadata": {},
   "outputs": [
    {
     "name": "stdin",
     "output_type": "stream",
     "text": [
      " 1\n",
      " 2\n"
     ]
    },
    {
     "name": "stdout",
     "output_type": "stream",
     "text": [
      "3\n"
     ]
    }
   ],
   "source": [
    "a = int(input())     # зчитуємо з клавіатури та перетворюємо його в цілий тип\n",
    "b = int(input())\n",
    "\n",
    "print(a + b)"
   ]
  },
  {
   "cell_type": "markdown",
   "metadata": {},
   "source": [
    "####    Корені квадратного рівнянн"
   ]
  },
  {
   "cell_type": "markdown",
   "metadata": {},
   "source": [
    "\n",
    "$$\n",
    "ax^2+bx+c=0\\\\\n",
    "D = \\sqrt{b^2-4ac}\\\\\n",
    "$$\n",
    "###### Якщо D>=0 то 2 корені:\n",
    "$$\n",
    "x_{1,2}=\\frac{-b\\pm\\sqrt{D}}{2a}\n",
    "$$\n",
    "###### Якщо D<0, то корені не існують (вони комплексні)"
   ]
  },
  {
   "cell_type": "code",
   "execution_count": 5,
   "metadata": {},
   "outputs": [
    {
     "name": "stdin",
     "output_type": "stream",
     "text": [
      " 1\n",
      " 1\n",
      " -4\n"
     ]
    },
    {
     "name": "stdout",
     "output_type": "stream",
     "text": [
      "-2.56 1.56\n"
     ]
    }
   ],
   "source": [
    "import math\n",
    "a = float(input())\n",
    "b = float(input())\n",
    "c = float(input())\n",
    "\n",
    "D = b**2 - 4*a*c\n",
    "\n",
    "if D >= 0:\n",
    "    x1 = (-b - math.sqrt(D))/2*a\n",
    "    x2 = (-b + math.sqrt(D))/2*a\n",
    "    print(round(x1,2), round(x2,2))\n",
    "else:\n",
    "    print(\"Корені не існують (вони комплексні)\")"
   ]
  },
  {
   "cell_type": "markdown",
   "metadata": {},
   "source": [
    "####    Алгоритм для перевірки простоти числа"
   ]
  },
  {
   "cell_type": "markdown",
   "metadata": {},
   "source": [
    "###### Число називається простим якщо воно має лише дві дільники (1 та саме число)\n",
    "###### Число 1 - не просте і не складене"
   ]
  },
  {
   "cell_type": "code",
   "execution_count": 14,
   "metadata": {},
   "outputs": [
    {
     "name": "stdin",
     "output_type": "stream",
     "text": [
      " 23\n"
     ]
    },
    {
     "name": "stdout",
     "output_type": "stream",
     "text": [
      "Число 23 є просте\n"
     ]
    }
   ],
   "source": [
    "a = int(input())\n",
    "\n",
    "k = 0 # лічильник для підрахунку кількості дільників\n",
    "\n",
    "for i in range(1, a + 1):\n",
    "    if a % i == 0:\n",
    "        k = k +1\n",
    "if k > 2: \n",
    "    print(\"Число \" + str(a) + \" є складене\")\n",
    "else:\n",
    "    print(\"Число \" + str(a) + \" є просте\")"
   ]
  },
  {
   "cell_type": "markdown",
   "metadata": {},
   "source": [
    "## 4. Домашнє завдання"
   ]
  },
  {
   "cell_type": "markdown",
   "metadata": {},
   "source": [
    "- Ознайомитися із лекціями та лабораторними роботами `Module 1. Introduction to Python`"
   ]
  },
  {
   "cell_type": "markdown",
   "metadata": {},
   "source": [
    " - Здати `Test. 1 Module`"
   ]
  },
  {
   "cell_type": "markdown",
   "metadata": {},
   "source": [
    "- Розв'язати наступні задачі:"
   ]
  },
  {
   "cell_type": "markdown",
   "metadata": {},
   "source": [
    "#### Задача 1 *\n",
    "Напишите программу, которая считывает длины двух катетов в прямоугольном треугольнике и выводит его площадь. Каждое число записано в отдельной строке."
   ]
  },
  {
   "cell_type": "code",
   "execution_count": null,
   "metadata": {},
   "outputs": [],
   "source": []
  },
  {
   "cell_type": "markdown",
   "metadata": {},
   "source": [
    "#### Задача 2 **\n",
    "n школьников делят k яблок поровну, неделящийся остаток остается в корзинке. Сколько яблок достанется каждому школьнику? Сколько яблок останется в корзинке? Программа получает на вход числа n и k и должна вывести искомое количество яблок (два числа)."
   ]
  },
  {
   "cell_type": "code",
   "execution_count": null,
   "metadata": {},
   "outputs": [],
   "source": []
  },
  {
   "cell_type": "markdown",
   "metadata": {},
   "source": [
    "#### Задача 3 ***\n",
    "Шахматный король ходит по горизонтали, вертикали и диагонали, но только на 1 клетку. Даны две различные клетки шахматной доски, определите, может ли король попасть с первой клетки на вторую одним ходом. Программа получает на вход четыре числа от 1 до 8 каждое, задающие номер столбца и номер строки сначала для первой клетки, потом для второй клетки. Программа должна вывести `YES`, если из первой клетки ходом короля можно попасть во вторую или `NO` в противном случае."
   ]
  },
  {
   "cell_type": "code",
   "execution_count": null,
   "metadata": {},
   "outputs": [],
   "source": []
  }
 ],
 "metadata": {
  "kernelspec": {
   "display_name": "Python 3",
   "language": "python",
   "name": "python3"
  },
  "language_info": {
   "codemirror_mode": {
    "name": "ipython",
    "version": 3
   },
   "file_extension": ".py",
   "mimetype": "text/x-python",
   "name": "python",
   "nbconvert_exporter": "python",
   "pygments_lexer": "ipython3",
   "version": "3.6.7"
  }
 },
 "nbformat": 4,
 "nbformat_minor": 2
}
