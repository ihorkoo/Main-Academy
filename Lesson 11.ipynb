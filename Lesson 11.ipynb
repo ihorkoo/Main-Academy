{
 "cells": [
  {
   "cell_type": "markdown",
   "metadata": {
    "collapsed": true
   },
   "source": [
    "# Lesson 11"
   ]
  },
  {
   "cell_type": "code",
   "execution_count": null,
   "metadata": {},
   "outputs": [],
   "source": [
    "import requests\n",
    "# https://uk.wikipedia.org/wiki/HTTP"
   ]
  },
  {
   "cell_type": "code",
   "execution_count": null,
   "metadata": {},
   "outputs": [],
   "source": [
    "#Зробимо запит до сайту https://www.instagram.com/\n",
    "r = requests.get('https://www.instagram.com/')\n",
    "print(r)\n",
    "\n",
    "# розглянемо status_code\n",
    "print(requests.codes)\n",
    "\n",
    "if r.status_code == 200:\n",
    "    print('Success!')\n",
    "elif r.status_code == 404:\n",
    "    print('Not Found.')"
   ]
  },
  {
   "cell_type": "markdown",
   "metadata": {},
   "source": [
    "Інформація про коди стану: https://uk.wikipedia.org/wiki/%D0%A1%D0%BF%D0%B8%D1%81%D0%BE%D0%BA_%D0%BA%D0%BE%D0%B4%D1%96%D0%B2_%D1%81%D1%82%D0%B0%D0%BD%D1%83_HTTP"
   ]
  },
  {
   "cell_type": "markdown",
   "metadata": {},
   "source": [
    "Спробуємо обробити помилку"
   ]
  },
  {
   "cell_type": "code",
   "execution_count": null,
   "metadata": {},
   "outputs": [],
   "source": [
    "\n",
    "    \n",
    "\n"
   ]
  },
  {
   "cell_type": "markdown",
   "metadata": {},
   "source": [
    "### Доступ до контенту"
   ]
  },
  {
   "cell_type": "code",
   "execution_count": null,
   "metadata": {},
   "outputs": [],
   "source": [
    "r = requests.get('https://www.instagram.com/')\n",
    "# відповідь у форматі байтів\n",
    "\n",
    "#відповідь у форматі тексту\n",
    "\n",
    "\n"
   ]
  },
  {
   "cell_type": "code",
   "execution_count": null,
   "metadata": {},
   "outputs": [],
   "source": [
    "#Заголовки\n"
   ]
  },
  {
   "cell_type": "markdown",
   "metadata": {},
   "source": [
    "### Параметри"
   ]
  },
  {
   "cell_type": "code",
   "execution_count": null,
   "metadata": {},
   "outputs": [],
   "source": [
    "payload = {'key2': 'iPad', 'key2': 'value2'}\n",
    "r = requests.get('http://httpbin.org/get', params=payload)\n",
    "print(r.text)"
   ]
  },
  {
   "cell_type": "markdown",
   "metadata": {},
   "source": [
    "### Параметри в Head"
   ]
  },
  {
   "cell_type": "code",
   "execution_count": null,
   "metadata": {},
   "outputs": [],
   "source": [
    "# Headers\n",
    "url = 'http://httpbin.org/get'\n",
    "headers = {'user-agent': 'my-app/0.0.1'}\n",
    "\n",
    "r = requests.get(url, headers=headers)\n",
    "print(r.text)"
   ]
  },
  {
   "cell_type": "code",
   "execution_count": null,
   "metadata": {},
   "outputs": [],
   "source": [
    "### Запрос в гугл\n"
   ]
  },
  {
   "cell_type": "code",
   "execution_count": null,
   "metadata": {},
   "outputs": [],
   "source": [
    "# Курс валюти https://bank.gov.ua/control/uk/publish/article?art_id=38441973\n",
    "# Вивести курс золота і на певну дату\n",
    "\n",
    "\n",
    "\n"
   ]
  },
  {
   "cell_type": "markdown",
   "metadata": {},
   "source": [
    "## Парсінг сайтів"
   ]
  },
  {
   "cell_type": "code",
   "execution_count": null,
   "metadata": {},
   "outputs": [],
   "source": [
    "import re\n",
    "html = \"Курс евро на сьогдні 5,69\"\n",
    "match = re.search(r'Евро\\D+(\\d+,\\d+)', html, re.IGNORECASE)\n",
    "print(match)\n",
    "rate = match.group(1)\n",
    "rate"
   ]
  },
  {
   "cell_type": "code",
   "execution_count": null,
   "metadata": {},
   "outputs": [],
   "source": [
    "r= requests.get('https://www.instagram.com/p/BvrgdQ-BMyC/')\n",
    "text = r.text\n",
    "# Назва сайту\n",
    "content = re.search(r'<meta[^>]+property=\"[^\"]*og:site_name[^>]+content=\"([^\"]+)', text)\n",
    "content.group(1)\n",
    "\n",
    "# Контент\n",
    "content_2 = re.search(r'<meta[^>]+property=\"[^\"]*og:title[^>]+content=\"([^\"]+)', text)\n",
    "content_2.group(1)\n",
    "\n",
    "#Силка на фото\n",
    "content_3 = re.search(r'<meta[^>]+property=\"[^\"]*og:image[^>]+content=\"([^\"]+)', text)\n",
    "content_3.group(1)\n",
    "\n",
    "\n"
   ]
  },
  {
   "cell_type": "markdown",
   "metadata": {},
   "source": [
    "### Beautiful Soup"
   ]
  },
  {
   "cell_type": "markdown",
   "metadata": {},
   "source": [
    " Beautiful Soup – это модуль для извлечения данных из HTML и XML, в том числе из документов с ”плохой” разметкой (незакрытые теги, неправильные атрибуты и так далее).\n",
    "LXML строит дерево синтаксического разбора, по которому можно искать и манипулировать\n",
    "различными данными из HTML и XML. HTML/XML – это дерево; набор тегов, которые могут\n",
    "быть вложены друг в друга, у каждого могут родители, дети и так далее.\n",
    "Для работы Beautiful Soup нужен парсер – это такой модуль, который умеет непосредственно с\n",
    "HTML/XML, разбирать его, а затем Beautiful Soup преобразует его в дерево. Это может быть,\n",
    "например, html.parser, который прямо встроен в Python. Это неплохой модуль: он имеет среднюю скорость разбора, достаточно лоялен к незакрытым тегам и неправильной разметке, но он\n",
    "не умеет работать с XML.\n",
    "Поэтому мы будем использовать сторонний модуль lxml. Его надо ставить отдельно. Он быстрый, лоялен к некачественной разметке и при этом он умеет работать с XML.\n",
    "Таким образом, Beautiful Soup представляет текстовую строку HMTL/XML страницы в виде\n",
    "объекта Python, с которым потом удобно работать, обращаясь к методам модуля soup для получения атрибутов.\n",
    "Чтобы установить Beautiful Soup, нужно написать pip install beautifulsoup4 lxml."
   ]
  },
  {
   "cell_type": "code",
   "execution_count": null,
   "metadata": {},
   "outputs": [],
   "source": [
    "from bs4 import BeautifulSoup\n",
    "soup = BeautifulSoup(text, 'lxml')\n",
    "bs_links = soup('meta', property=\"og:site_name\")\n",
    "print(bs_links)\n",
    "bs_hrefs = [link['content'] for link in bs_links]\n",
    "bs_hrefs\n",
    "\n",
    "    \n"
   ]
  },
  {
   "cell_type": "markdown",
   "metadata": {},
   "source": [
    "##### Програма, що скачує фото із Instagram"
   ]
  },
  {
   "cell_type": "code",
   "execution_count": null,
   "metadata": {},
   "outputs": [],
   "source": []
  },
  {
   "cell_type": "markdown",
   "metadata": {},
   "source": [
    "##### Програма, що при конекті до сайту виводить код відповіді, та розшифровку з Вікіпедії"
   ]
  },
  {
   "cell_type": "code",
   "execution_count": null,
   "metadata": {},
   "outputs": [],
   "source": [
    "r = requests.get('https://uk.wikipedia.org/wiki/%D0%A1%D0%BF%D0%B8%D1%81%D0%BE%D0%BA_%D0%BA%D0%BE%D0%B4%D1%96%D0%B2_%D1%81%D1%82%D0%B0%D0%BD%D1%83_HTTP')\n"
   ]
  }
 ],
 "metadata": {
  "kernelspec": {
   "display_name": "Python 3",
   "language": "python",
   "name": "python3"
  },
  "language_info": {
   "codemirror_mode": {
    "name": "ipython",
    "version": 3
   },
   "file_extension": ".py",
   "mimetype": "text/x-python",
   "name": "python",
   "nbconvert_exporter": "python",
   "pygments_lexer": "ipython3",
   "version": "3.7.3"
  }
 },
 "nbformat": 4,
 "nbformat_minor": 2
}
